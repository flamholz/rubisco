{
 "cells": [
  {
   "cell_type": "code",
   "execution_count": 1,
   "metadata": {},
   "outputs": [],
   "source": [
    "import sympy\n",
    "import numpy as np"
   ]
  },
  {
   "cell_type": "code",
   "execution_count": 2,
   "metadata": {},
   "outputs": [],
   "source": [
    "micros = sympy.symbols('k:1(1:11)', real=True)\n",
    "concs = sympy.symbols('R, C, O, P, Q', real=True)\n",
    "solvars = sympy.symbols('E, ERu, ERe, EC6, EC5, Et', real=True)\n",
    "\n",
    "k1, k2, k3, k4, k5, k6, k7, k8, k9, k10 = micros\n",
    "R, C, O, P, Q = concs \n",
    "E, ERu, ERe, EC6, EC5, Et = solvars\n"
   ]
  },
  {
   "cell_type": "code",
   "execution_count": 3,
   "metadata": {},
   "outputs": [],
   "source": [
    "A_kin = sympy.Matrix([[-k1*R, +k2, 0, +k8, +k5, 0],\n",
    "       [+k1*R, -(k2 + k9), +k10, 0, 0, 0],\n",
    "       [0, +k9, -(k10 + k6*C + k3*O), +k7, +k4, 0],\n",
    "       [0, 0, +k6*C, -(k8 + k7), 0, 0],\n",
    "       [0, 0, +k3*O, 0, -(k5 + k4), 0],\n",
    "       [1, 1, 1, 1, 1, -1]])\n",
    "b = sympy.Matrix(np.zeros(6))\n",
    "x = sympy.Matrix([E, ERu, ERe, EC6, EC5, Et])"
   ]
  },
  {
   "cell_type": "code",
   "execution_count": 4,
   "metadata": {},
   "outputs": [
    {
     "data": {
      "text/plain": [
       "Matrix([\n",
       "[-R*k01,        k02,                     0,        k08,        k05,  0],\n",
       "[ R*k01, -k02 - k09,                  k010,          0,          0,  0],\n",
       "[     0,        k09, -C*k06 - O*k03 - k010,        k07,        k04,  0],\n",
       "[     0,          0,                 C*k06, -k07 - k08,          0,  0],\n",
       "[     0,          0,                 O*k03,          0, -k04 - k05,  0],\n",
       "[     1,          1,                     1,          1,          1, -1]])"
      ]
     },
     "execution_count": 4,
     "metadata": {},
     "output_type": "execute_result"
    }
   ],
   "source": [
    "A_kin"
   ]
  },
  {
   "cell_type": "code",
   "execution_count": 5,
   "metadata": {},
   "outputs": [
    {
     "data": {
      "text/plain": [
       "Matrix([\n",
       "[-R*k01,        k02,                     0,  k08,  k05,  0],\n",
       "[ R*k01, -k02 - k09,                  k010,    0,    0,  0],\n",
       "[     0,        k09, -C*k06 - O*k03 - k010,    0,    0,  0],\n",
       "[     0,          0,                 C*k06, -k08,    0,  0],\n",
       "[     0,          0,                 O*k03,    0, -k05,  0],\n",
       "[     1,          1,                     1,    1,    1, -1]])"
      ]
     },
     "execution_count": 5,
     "metadata": {},
     "output_type": "execute_result"
    }
   ],
   "source": [
    "A_simp = A_kin.subs(k4, 0).subs(k7, 0)\n",
    "A_simp"
   ]
  },
  {
   "cell_type": "code",
   "execution_count": 6,
   "metadata": {},
   "outputs": [
    {
     "data": {
      "text/plain": [
       "Matrix([\n",
       "[-E*R*k01 + EC5*k05 + EC6*k08 + ERu*k02],\n",
       "[ E*R*k01 + ERe*k010 + ERu*(-k02 - k09)],\n",
       "[ ERe*(-C*k06 - O*k03 - k010) + ERu*k09],\n",
       "[                   C*ERe*k06 - EC6*k08],\n",
       "[                  -EC5*k05 + ERe*O*k03],\n",
       "[        E + EC5 + EC6 + ERe + ERu - Et]])"
      ]
     },
     "execution_count": 6,
     "metadata": {},
     "output_type": "execute_result"
    }
   ],
   "source": [
    "A_simp*x"
   ]
  },
  {
   "cell_type": "code",
   "execution_count": 13,
   "metadata": {},
   "outputs": [],
   "source": [
    "solvars = [C, O, ERu, ERe, EC6, EC5]\n",
    "solutions = sympy.nonlinsolve(A_simp*x, solvars)"
   ]
  },
  {
   "cell_type": "code",
   "execution_count": 14,
   "metadata": {},
   "outputs": [
    {
     "name": "stdout",
     "output_type": "stream",
     "text": [
      "C =  -(E*R*k01*k010*k05*k08 + E*R*k01*k05*k08*k09 + E*k010*k02*k05*k08 - Et*k010*k02*k05*k08 + O*k03*k08*(E*R*k01*k05 + E*R*k01*k09 + E*k02*k05 + E*k05*k09 - Et*k02*k05 - Et*k05*k09))/(k05*k06*(E*R*k01*k08 + E*R*k01*k09 + E*k02*k08 + E*k08*k09 - Et*k02*k08 - Et*k08*k09))\n",
      "O =  O\n",
      "ERe =  -(E*R*k01*k010 - E*R*k01*k05 + E*k010*k05 - Et*k010*k05 + (-k010*k02 + k010*k05 + k02*k05 + k05*k09)*(E*O*R*k01*k03*k05 - E*O*R*k01*k03*k08 + E*R*k01*k010*k05 - E*R*k01*k05*k08 + E*k010*k05*k08 - Et*k010*k05*k08)/(O*k02*k03*k05 - O*k02*k03*k08 + O*k03*k05*k09 - O*k03*k08*k09 + k010*k02*k05 - k010*k05*k08 - k02*k05*k08 - k05*k08*k09))/(k010*(k05 - k08))\n",
      "\n"
     ]
    }
   ],
   "source": [
    "for s in solutions:\n",
    "    print('C = ', s[0])\n",
    "    print('O = ', s[1])\n",
    "    print('ERe = ', s[4])\n",
    "    print()"
   ]
  },
  {
   "cell_type": "code",
   "execution_count": 34,
   "metadata": {},
   "outputs": [
    {
     "name": "stdout",
     "output_type": "stream",
     "text": [
      "- \\frac{E R k_{01} k_{010} k_{05} k_{08} + E R k_{01} k_{05} k_{08} k_{09} + E k_{010} k_{02} k_{05} k_{08} - Et k_{010} k_{02} k_{05} k_{08} + O k_{03} k_{08} \\left(E R k_{01} k_{05} + E R k_{01} k_{09} + E k_{02} k_{05} + E k_{05} k_{09} - Et k_{02} k_{05} - Et k_{05} k_{09}\\right)}{k_{05} k_{06} \\left(E R k_{01} k_{08} + E R k_{01} k_{09} + E k_{02} k_{08} + E k_{08} k_{09} - Et k_{02} k_{08} - Et k_{08} k_{09}\\right)}\n"
     ]
    }
   ],
   "source": [
    "l = list(solutions)\n",
    "print(sympy.latex(l[0][0]))\n"
   ]
  },
  {
   "cell_type": "code",
   "execution_count": 10,
   "metadata": {},
   "outputs": [],
   "source": []
  },
  {
   "cell_type": "code",
   "execution_count": null,
   "metadata": {},
   "outputs": [],
   "source": []
  }
 ],
 "metadata": {
  "kernelspec": {
   "display_name": "Python 3",
   "language": "python",
   "name": "python3"
  },
  "language_info": {
   "codemirror_mode": {
    "name": "ipython",
    "version": 3
   },
   "file_extension": ".py",
   "mimetype": "text/x-python",
   "name": "python",
   "nbconvert_exporter": "python",
   "pygments_lexer": "ipython3",
   "version": "3.6.5"
  }
 },
 "nbformat": 4,
 "nbformat_minor": 2
}
