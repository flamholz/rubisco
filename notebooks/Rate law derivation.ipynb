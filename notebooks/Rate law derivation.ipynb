{
 "cells": [
  {
   "cell_type": "code",
   "execution_count": 1,
   "metadata": {},
   "outputs": [],
   "source": [
    "import sympy\n",
    "import numpy as np"
   ]
  },
  {
   "cell_type": "code",
   "execution_count": 2,
   "metadata": {},
   "outputs": [],
   "source": [
    "micros = sympy.symbols('k:1(1:11)')\n",
    "concs = sympy.symbols('R, C, O, P, Q')\n",
    "solvars = sympy.symbols('E, ERu, ERe, EC6, EC5, Et')\n",
    "\n",
    "k1, k2, k3, k4, k5, k6, k7, k8, k9, k10 = micros\n",
    "R, C, O, P, Q = concs \n",
    "E, ERu, ERe, EC6, EC5, Et = solvars\n"
   ]
  },
  {
   "cell_type": "code",
   "execution_count": 3,
   "metadata": {},
   "outputs": [],
   "source": [
    "A_kin = sympy.Matrix([[-k1*R, +k2, 0, +k8, +k5, 0],\n",
    "       [+k1*R, -(k2 + k9), +k10, 0, 0, 0],\n",
    "       [0, +k9, -(k10 + k6*C + k3*O), +k5, +k4, 0],\n",
    "       [0, 0, +k6*C, -(k8 + k7), 0, 0],\n",
    "       [0, 0, +k3*O, 0, -(k5 + k4), 0],\n",
    "       [1, 1, 1, 1, 1, -1]])\n",
    "b = sympy.Matrix(np.zeros(6))"
   ]
  },
  {
   "cell_type": "code",
   "execution_count": 4,
   "metadata": {},
   "outputs": [
    {
     "data": {
      "text/plain": [
       "Matrix([\n",
       "[-R*k01,        k02,                     0,        k08,        k05,  0],\n",
       "[ R*k01, -k02 - k09,                  k010,          0,          0,  0],\n",
       "[     0,        k09, -C*k06 - O*k03 - k010,        k05,        k04,  0],\n",
       "[     0,          0,                 C*k06, -k07 - k08,          0,  0],\n",
       "[     0,          0,                 O*k03,          0, -k04 - k05,  0],\n",
       "[     1,          1,                     1,          1,          1, -1]])"
      ]
     },
     "execution_count": 4,
     "metadata": {},
     "output_type": "execute_result"
    }
   ],
   "source": [
    "A_kin"
   ]
  },
  {
   "cell_type": "code",
   "execution_count": 5,
   "metadata": {},
   "outputs": [
    {
     "data": {
      "text/plain": [
       "Matrix([\n",
       "[0.0],\n",
       "[0.0],\n",
       "[0.0],\n",
       "[0.0],\n",
       "[0.0],\n",
       "[0.0]])"
      ]
     },
     "execution_count": 5,
     "metadata": {},
     "output_type": "execute_result"
    }
   ],
   "source": [
    "b"
   ]
  },
  {
   "cell_type": "code",
   "execution_count": 6,
   "metadata": {},
   "outputs": [
    {
     "data": {
      "text/plain": [
       "(Matrix([\n",
       " [1, 0, 0, 0, 0, 0],\n",
       " [0, 1, 0, 0, 0, 0],\n",
       " [0, 0, 1, 0, 0, 0],\n",
       " [0, 0, 0, 1, 0, 0],\n",
       " [0, 0, 0, 0, 1, 0],\n",
       " [0, 0, 0, 0, 0, 1]]), (0, 1, 2, 3, 4, 5))"
      ]
     },
     "execution_count": 6,
     "metadata": {},
     "output_type": "execute_result"
    }
   ],
   "source": [
    "A_kin.rref()"
   ]
  },
  {
   "cell_type": "code",
   "execution_count": 7,
   "metadata": {},
   "outputs": [
    {
     "data": {
      "text/plain": [
       "{(0, 0, 0, 0, 0, 0)}"
      ]
     },
     "execution_count": 7,
     "metadata": {},
     "output_type": "execute_result"
    }
   ],
   "source": [
    "sympy.linsolve((A_kin, b), (C, O))"
   ]
  },
  {
   "cell_type": "code",
   "execution_count": null,
   "metadata": {},
   "outputs": [],
   "source": [
    "np.zeros(3)"
   ]
  },
  {
   "cell_type": "code",
   "execution_count": null,
   "metadata": {},
   "outputs": [],
   "source": [
    "sympy.linsolve?"
   ]
  },
  {
   "cell_type": "code",
   "execution_count": null,
   "metadata": {},
   "outputs": [],
   "source": []
  }
 ],
 "metadata": {
  "kernelspec": {
   "display_name": "Python 3",
   "language": "python",
   "name": "python3"
  },
  "language_info": {
   "codemirror_mode": {
    "name": "ipython",
    "version": 3
   },
   "file_extension": ".py",
   "mimetype": "text/x-python",
   "name": "python",
   "nbconvert_exporter": "python",
   "pygments_lexer": "ipython3",
   "version": "3.6.5"
  }
 },
 "nbformat": 4,
 "nbformat_minor": 2
}
